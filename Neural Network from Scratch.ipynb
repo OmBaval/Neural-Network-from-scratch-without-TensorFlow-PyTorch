{
 "cells": [
  {
   "cell_type": "markdown",
   "id": "a261100d",
   "metadata": {},
   "source": [
    "# Simple MNIST Neural Network from scratch\n",
    "\n",
    "In this notebook, I implemented a simple two-layer neural network and trained it on the MNIST digit recognizer dataset. It's meant to be an instructional example, through which you can understand the underlying math of neural networks better."
   ]
  },
  {
   "cell_type": "code",
   "execution_count": 1,
   "id": "be39a7c0",
   "metadata": {},
   "outputs": [],
   "source": [
    "import numpy as np\n",
    "import pandas as pd\n",
    "import matplotlib.pyplot as plt"
   ]
  },
  {
   "cell_type": "code",
   "execution_count": 2,
   "id": "ae75c227",
   "metadata": {},
   "outputs": [],
   "source": [
    "data=pd.read_csv(r\"C:\\Users\\ombav\\Downloads\\digit-recognizer\\train.csv\")"
   ]
  },
  {
   "cell_type": "markdown",
   "id": "df2ff23f",
   "metadata": {},
   "source": [
    "This line reads the MNIST dataset from a CSV file named \"train.csv\" using Pandas and stores it in a DataFrame called data."
   ]
  },
  {
   "cell_type": "code",
   "execution_count": 3,
   "id": "c0a3020d",
   "metadata": {},
   "outputs": [
    {
     "data": {
      "text/html": [
       "<div>\n",
       "<style scoped>\n",
       "    .dataframe tbody tr th:only-of-type {\n",
       "        vertical-align: middle;\n",
       "    }\n",
       "\n",
       "    .dataframe tbody tr th {\n",
       "        vertical-align: top;\n",
       "    }\n",
       "\n",
       "    .dataframe thead th {\n",
       "        text-align: right;\n",
       "    }\n",
       "</style>\n",
       "<table border=\"1\" class=\"dataframe\">\n",
       "  <thead>\n",
       "    <tr style=\"text-align: right;\">\n",
       "      <th></th>\n",
       "      <th>label</th>\n",
       "      <th>pixel0</th>\n",
       "      <th>pixel1</th>\n",
       "      <th>pixel2</th>\n",
       "      <th>pixel3</th>\n",
       "      <th>pixel4</th>\n",
       "      <th>pixel5</th>\n",
       "      <th>pixel6</th>\n",
       "      <th>pixel7</th>\n",
       "      <th>pixel8</th>\n",
       "      <th>...</th>\n",
       "      <th>pixel774</th>\n",
       "      <th>pixel775</th>\n",
       "      <th>pixel776</th>\n",
       "      <th>pixel777</th>\n",
       "      <th>pixel778</th>\n",
       "      <th>pixel779</th>\n",
       "      <th>pixel780</th>\n",
       "      <th>pixel781</th>\n",
       "      <th>pixel782</th>\n",
       "      <th>pixel783</th>\n",
       "    </tr>\n",
       "  </thead>\n",
       "  <tbody>\n",
       "    <tr>\n",
       "      <th>0</th>\n",
       "      <td>1</td>\n",
       "      <td>0</td>\n",
       "      <td>0</td>\n",
       "      <td>0</td>\n",
       "      <td>0</td>\n",
       "      <td>0</td>\n",
       "      <td>0</td>\n",
       "      <td>0</td>\n",
       "      <td>0</td>\n",
       "      <td>0</td>\n",
       "      <td>...</td>\n",
       "      <td>0</td>\n",
       "      <td>0</td>\n",
       "      <td>0</td>\n",
       "      <td>0</td>\n",
       "      <td>0</td>\n",
       "      <td>0</td>\n",
       "      <td>0</td>\n",
       "      <td>0</td>\n",
       "      <td>0</td>\n",
       "      <td>0</td>\n",
       "    </tr>\n",
       "    <tr>\n",
       "      <th>1</th>\n",
       "      <td>0</td>\n",
       "      <td>0</td>\n",
       "      <td>0</td>\n",
       "      <td>0</td>\n",
       "      <td>0</td>\n",
       "      <td>0</td>\n",
       "      <td>0</td>\n",
       "      <td>0</td>\n",
       "      <td>0</td>\n",
       "      <td>0</td>\n",
       "      <td>...</td>\n",
       "      <td>0</td>\n",
       "      <td>0</td>\n",
       "      <td>0</td>\n",
       "      <td>0</td>\n",
       "      <td>0</td>\n",
       "      <td>0</td>\n",
       "      <td>0</td>\n",
       "      <td>0</td>\n",
       "      <td>0</td>\n",
       "      <td>0</td>\n",
       "    </tr>\n",
       "    <tr>\n",
       "      <th>2</th>\n",
       "      <td>1</td>\n",
       "      <td>0</td>\n",
       "      <td>0</td>\n",
       "      <td>0</td>\n",
       "      <td>0</td>\n",
       "      <td>0</td>\n",
       "      <td>0</td>\n",
       "      <td>0</td>\n",
       "      <td>0</td>\n",
       "      <td>0</td>\n",
       "      <td>...</td>\n",
       "      <td>0</td>\n",
       "      <td>0</td>\n",
       "      <td>0</td>\n",
       "      <td>0</td>\n",
       "      <td>0</td>\n",
       "      <td>0</td>\n",
       "      <td>0</td>\n",
       "      <td>0</td>\n",
       "      <td>0</td>\n",
       "      <td>0</td>\n",
       "    </tr>\n",
       "    <tr>\n",
       "      <th>3</th>\n",
       "      <td>4</td>\n",
       "      <td>0</td>\n",
       "      <td>0</td>\n",
       "      <td>0</td>\n",
       "      <td>0</td>\n",
       "      <td>0</td>\n",
       "      <td>0</td>\n",
       "      <td>0</td>\n",
       "      <td>0</td>\n",
       "      <td>0</td>\n",
       "      <td>...</td>\n",
       "      <td>0</td>\n",
       "      <td>0</td>\n",
       "      <td>0</td>\n",
       "      <td>0</td>\n",
       "      <td>0</td>\n",
       "      <td>0</td>\n",
       "      <td>0</td>\n",
       "      <td>0</td>\n",
       "      <td>0</td>\n",
       "      <td>0</td>\n",
       "    </tr>\n",
       "    <tr>\n",
       "      <th>4</th>\n",
       "      <td>0</td>\n",
       "      <td>0</td>\n",
       "      <td>0</td>\n",
       "      <td>0</td>\n",
       "      <td>0</td>\n",
       "      <td>0</td>\n",
       "      <td>0</td>\n",
       "      <td>0</td>\n",
       "      <td>0</td>\n",
       "      <td>0</td>\n",
       "      <td>...</td>\n",
       "      <td>0</td>\n",
       "      <td>0</td>\n",
       "      <td>0</td>\n",
       "      <td>0</td>\n",
       "      <td>0</td>\n",
       "      <td>0</td>\n",
       "      <td>0</td>\n",
       "      <td>0</td>\n",
       "      <td>0</td>\n",
       "      <td>0</td>\n",
       "    </tr>\n",
       "  </tbody>\n",
       "</table>\n",
       "<p>5 rows × 785 columns</p>\n",
       "</div>"
      ],
      "text/plain": [
       "   label  pixel0  pixel1  pixel2  pixel3  pixel4  pixel5  pixel6  pixel7  \\\n",
       "0      1       0       0       0       0       0       0       0       0   \n",
       "1      0       0       0       0       0       0       0       0       0   \n",
       "2      1       0       0       0       0       0       0       0       0   \n",
       "3      4       0       0       0       0       0       0       0       0   \n",
       "4      0       0       0       0       0       0       0       0       0   \n",
       "\n",
       "   pixel8  ...  pixel774  pixel775  pixel776  pixel777  pixel778  pixel779  \\\n",
       "0       0  ...         0         0         0         0         0         0   \n",
       "1       0  ...         0         0         0         0         0         0   \n",
       "2       0  ...         0         0         0         0         0         0   \n",
       "3       0  ...         0         0         0         0         0         0   \n",
       "4       0  ...         0         0         0         0         0         0   \n",
       "\n",
       "   pixel780  pixel781  pixel782  pixel783  \n",
       "0         0         0         0         0  \n",
       "1         0         0         0         0  \n",
       "2         0         0         0         0  \n",
       "3         0         0         0         0  \n",
       "4         0         0         0         0  \n",
       "\n",
       "[5 rows x 785 columns]"
      ]
     },
     "execution_count": 3,
     "metadata": {},
     "output_type": "execute_result"
    }
   ],
   "source": [
    "data.head()"
   ]
  },
  {
   "cell_type": "markdown",
   "id": "fa5f718a",
   "metadata": {},
   "source": [
    "These lines convert the DataFrame into a NumPy array, shuffling the data to ensure randomness, and retrieve the number of rows m and the number of columns n."
   ]
  },
  {
   "cell_type": "code",
   "execution_count": 4,
   "id": "27934c37",
   "metadata": {},
   "outputs": [],
   "source": [
    "data=np.array(data)\n",
    "m, n= data.shape\n",
    "np.random.shuffle(data)\n",
    "\n",
    "data_dev=data[0:1000].T\n",
    "Y_dev=data_dev[0]\n",
    "X_dev=data_dev[1:n]\n",
    "X_dev = X_dev / 255.\n",
    "\n",
    "data_train=data[1000:m].T\n",
    "Y_train=data_train[0]\n",
    "X_train=data_train[1:n]\n",
    "X_train = X_train / 255.\n",
    "_,m_train = X_train.shape"
   ]
  },
  {
   "cell_type": "markdown",
   "id": "6e4ed0d8",
   "metadata": {},
   "source": [
    "Here, the data is split into a development set (data_dev) and a training set (data_train). The pixel values are normalized to a range between 0 and 1 by dividing by 255."
   ]
  },
  {
   "cell_type": "markdown",
   "id": "075ed707",
   "metadata": {},
   "source": [
    "Our NN will have a simple two-layer architecture. Input layer $a^{[0]}$ will have 784 units corresponding to the 784 pixels in each 28x28 input image. A hidden layer $a^{[1]}$ will have 10 units with ReLU activation, and finally our output layer $a^{[2]}$ will have 10 units corresponding to the ten digit classes with softmax activation.\n",
    "\n",
    "**Forward propagation**\n",
    "\n",
    "$$Z^{[1]} = W^{[1]} X + b^{[1]}$$\n",
    "$$A^{[1]} = g_{\\text{ReLU}}(Z^{[1]}))$$\n",
    "$$Z^{[2]} = W^{[2]} A^{[1]} + b^{[2]}$$\n",
    "$$A^{[2]} = g_{\\text{softmax}}(Z^{[2]})$$\n",
    "\n",
    "**Backward propagation**\n",
    "\n",
    "$$dZ^{[2]} = A^{[2]} - Y$$\n",
    "$$dW^{[2]} = \\frac{1}{m} dZ^{[2]} A^{[1]T}$$\n",
    "$$dB^{[2]} = \\frac{1}{m} \\Sigma {dZ^{[2]}}$$\n",
    "$$dZ^{[1]} = W^{[2]T} dZ^{[2]} .* g^{[1]\\prime} (z^{[1]})$$\n",
    "$$dW^{[1]} = \\frac{1}{m} dZ^{[1]} A^{[0]T}$$\n",
    "$$dB^{[1]} = \\frac{1}{m} \\Sigma {dZ^{[1]}}$$\n",
    "\n",
    "**Parameter updates**\n",
    "\n",
    "$$W^{[2]} := W^{[2]} - \\alpha dW^{[2]}$$\n",
    "$$b^{[2]} := b^{[2]} - \\alpha db^{[2]}$$\n",
    "$$W^{[1]} := W^{[1]} - \\alpha dW^{[1]}$$\n",
    "$$b^{[1]} := b^{[1]} - \\alpha db^{[1]}$$\n",
    "\n",
    "**Vars and shapes**\n",
    "\n",
    "Forward prop\n",
    "\n",
    "- $A^{[0]} = X$: 784 x m\n",
    "- $Z^{[1]} \\sim A^{[1]}$: 10 x m\n",
    "- $W^{[1]}$: 10 x 784 (as $W^{[1]} A^{[0]} \\sim Z^{[1]}$)\n",
    "- $B^{[1]}$: 10 x 1\n",
    "- $Z^{[2]} \\sim A^{[2]}$: 10 x m\n",
    "- $W^{[1]}$: 10 x 10 (as $W^{[2]} A^{[1]} \\sim Z^{[2]}$)\n",
    "- $B^{[2]}$: 10 x 1\n",
    "\n",
    "Backprop\n",
    "\n",
    "- $dZ^{[2]}$: 10 x m ($~A^{[2]}$)\n",
    "- $dW^{[2]}$: 10 x 10\n",
    "- $dB^{[2]}$: 10 x 1\n",
    "- $dZ^{[1]}$: 10 x m ($~A^{[1]}$)\n",
    "- $dW^{[1]}$: 10 x 10\n",
    "- $dB^{[1]}$: 10 x 1"
   ]
  },
  {
   "cell_type": "code",
   "execution_count": 5,
   "id": "ced96caa",
   "metadata": {},
   "outputs": [],
   "source": [
    "def init_params():\n",
    "    w1=np.random.rand(10,784)-0.5\n",
    "    b1=np.random.rand(10,1)-0.5\n",
    "    w2=np.random.rand(10,10)-0.5\n",
    "    b2=np.random.rand(10,1)-0.5\n",
    "    return w1, b1, w2, b2"
   ]
  },
  {
   "cell_type": "markdown",
   "id": "6251d463",
   "metadata": {},
   "source": [
    "This function initializes the parameters of the neural network: weights (w1, w2) and biases (b1, b2) for the input and hidden layers."
   ]
  },
  {
   "cell_type": "code",
   "execution_count": 6,
   "id": "0a81a112",
   "metadata": {},
   "outputs": [],
   "source": [
    "def ReLU(Z):\n",
    "    return np.maximum(Z, 0)"
   ]
  },
  {
   "cell_type": "code",
   "execution_count": 7,
   "id": "5661ee9e",
   "metadata": {},
   "outputs": [],
   "source": [
    "def softmax(Z):\n",
    "    A=np.exp(Z) / sum(np.exp(Z))\n",
    "    return A"
   ]
  },
  {
   "cell_type": "markdown",
   "id": "28f30b0e",
   "metadata": {},
   "source": [
    "These functions define the activation functions used in the neural network: ReLU (Rectified Linear Unit) for the hidden layer and softmax for the output layer."
   ]
  },
  {
   "cell_type": "code",
   "execution_count": 8,
   "id": "323f513b",
   "metadata": {},
   "outputs": [],
   "source": [
    "def forward_prop(w1, b1, w2, b2, X):\n",
    "    z1=w1.dot(X)+b1\n",
    "    a1=ReLU(z1)\n",
    "    z2=w2.dot(a1)+b2\n",
    "    a2=softmax(z2)\n",
    "    return z1, a1, z2, a2"
   ]
  },
  {
   "cell_type": "markdown",
   "id": "3d389784",
   "metadata": {},
   "source": [
    "This function performs forward propagation, computing the activations of each layer sequentially until the final output is obtained."
   ]
  },
  {
   "cell_type": "code",
   "execution_count": 9,
   "id": "f6e316ad",
   "metadata": {},
   "outputs": [],
   "source": [
    "def one_hot(Y):\n",
    "    one_hot_Y = np.zeros((Y.size, Y.max() + 1))\n",
    "    one_hot_Y[np.arange(Y.size), Y] = 1\n",
    "    one_hot_Y = one_hot_Y.T\n",
    "    return one_hot_Y"
   ]
  },
  {
   "cell_type": "code",
   "execution_count": 10,
   "id": "135a7915",
   "metadata": {},
   "outputs": [],
   "source": [
    "def deriv_ReLU(Z):\n",
    "    return Z>0"
   ]
  },
  {
   "cell_type": "code",
   "execution_count": 11,
   "id": "7fc227b0",
   "metadata": {},
   "outputs": [],
   "source": [
    "def back_prop(z1, a1, z2, a2, w2, Y, X):\n",
    "    OneHot_Y=one_hot(Y)\n",
    "    dZ2=a2-OneHot_Y\n",
    "    dW2=1/m * dZ2.dot(a1.T)\n",
    "    db2=1/m * np.sum(dZ2)\n",
    "    dZ1=w2.T.dot(dZ2)*deriv_ReLU(z1)\n",
    "    dW1=1/m * dZ1.dot(X.T)\n",
    "    db1=1/m * np.sum(dZ1)\n",
    "    return dW1, db1, dW2, db2"
   ]
  },
  {
   "cell_type": "markdown",
   "id": "058e9dfb",
   "metadata": {},
   "source": [
    "This function computes the gradients of the loss function with respect to the parameters of the network during backpropagation."
   ]
  },
  {
   "cell_type": "code",
   "execution_count": 12,
   "id": "094277e6",
   "metadata": {},
   "outputs": [],
   "source": [
    "def update_params(W1, b1, W2, b2, dW1, db1, dW2, db2, alpha):\n",
    "    W1=W1-alpha*dW1\n",
    "    b1=b1-alpha*db1\n",
    "    W2=W2-alpha*dW2\n",
    "    b2=b2-alpha*db2\n",
    "    return W1, b1, W2, b2"
   ]
  },
  {
   "cell_type": "markdown",
   "id": "2fa822d4",
   "metadata": {},
   "source": [
    "This function updates the parameters of the neural network using gradient descent."
   ]
  },
  {
   "cell_type": "code",
   "execution_count": 13,
   "id": "7b671953",
   "metadata": {},
   "outputs": [],
   "source": [
    "def get_predictions(a2):\n",
    "    return np.argmax(a2,0)"
   ]
  },
  {
   "cell_type": "code",
   "execution_count": 14,
   "id": "f7f80154",
   "metadata": {},
   "outputs": [],
   "source": [
    "def get_accuracy(predictions, Y):\n",
    "    print(predictions, Y)\n",
    "    return np.sum(predictions == Y)/Y.size"
   ]
  },
  {
   "cell_type": "code",
   "execution_count": 15,
   "id": "1efad1c0",
   "metadata": {},
   "outputs": [],
   "source": [
    "def gradient_descent(X, Y, iterations, alpha):\n",
    "    w1, b1, w2, b2=init_params()\n",
    "    for i in range(iterations):\n",
    "        z1, a1, z2, a2 =forward_prop(w1, b1, w2, b2, X)\n",
    "        dW1, db1, dW2, db2 = back_prop(z1, a1, z2, a2, w2, Y, X)\n",
    "        w1, b1, w2, b2 = update_params(w1, b1, w2, b2, dW1, db1, dW2, db2, alpha)\n",
    "        if i%10==0:\n",
    "            print(\"iterations: \",i)\n",
    "            print(\"accuracy: \",get_accuracy(get_predictions(a2),Y))\n",
    "    return w1, b1, w2, b2"
   ]
  },
  {
   "cell_type": "markdown",
   "id": "7de6159b",
   "metadata": {},
   "source": [
    "This function performs gradient descent to train the neural network, iterating over a specified number of epochs (iterations) and updating the parameters."
   ]
  },
  {
   "cell_type": "code",
   "execution_count": 16,
   "id": "5394c2b5",
   "metadata": {
    "scrolled": false
   },
   "outputs": [
    {
     "name": "stdout",
     "output_type": "stream",
     "text": [
      "iterations:  0\n",
      "[6 0 2 ... 3 0 2] [6 4 1 ... 1 4 8]\n",
      "accuracy:  0.12795121951219512\n",
      "iterations:  10\n",
      "[0 0 3 ... 3 5 3] [6 4 1 ... 1 4 8]\n",
      "accuracy:  0.19278048780487805\n",
      "iterations:  20\n",
      "[0 9 2 ... 3 5 5] [6 4 1 ... 1 4 8]\n",
      "accuracy:  0.2560731707317073\n",
      "iterations:  30\n",
      "[6 9 2 ... 6 5 5] [6 4 1 ... 1 4 8]\n",
      "accuracy:  0.32909756097560977\n",
      "iterations:  40\n",
      "[6 9 1 ... 6 5 5] [6 4 1 ... 1 4 8]\n",
      "accuracy:  0.4157560975609756\n",
      "iterations:  50\n",
      "[6 9 1 ... 6 5 5] [6 4 1 ... 1 4 8]\n",
      "accuracy:  0.49453658536585365\n",
      "iterations:  60\n",
      "[6 9 1 ... 6 5 5] [6 4 1 ... 1 4 8]\n",
      "accuracy:  0.5576585365853659\n",
      "iterations:  70\n",
      "[6 9 1 ... 6 4 5] [6 4 1 ... 1 4 8]\n",
      "accuracy:  0.6042195121951219\n",
      "iterations:  80\n",
      "[6 9 1 ... 6 4 5] [6 4 1 ... 1 4 8]\n",
      "accuracy:  0.6395609756097561\n",
      "iterations:  90\n",
      "[6 9 1 ... 6 4 5] [6 4 1 ... 1 4 8]\n",
      "accuracy:  0.6661463414634147\n",
      "iterations:  100\n",
      "[6 9 1 ... 1 4 8] [6 4 1 ... 1 4 8]\n",
      "accuracy:  0.6885853658536585\n",
      "iterations:  110\n",
      "[6 9 1 ... 1 4 8] [6 4 1 ... 1 4 8]\n",
      "accuracy:  0.7066829268292683\n",
      "iterations:  120\n",
      "[6 9 1 ... 1 4 8] [6 4 1 ... 1 4 8]\n",
      "accuracy:  0.7223170731707317\n",
      "iterations:  130\n",
      "[6 9 1 ... 1 4 8] [6 4 1 ... 1 4 8]\n",
      "accuracy:  0.7354390243902439\n",
      "iterations:  140\n",
      "[6 9 1 ... 1 4 8] [6 4 1 ... 1 4 8]\n",
      "accuracy:  0.7462439024390244\n",
      "iterations:  150\n",
      "[6 4 1 ... 1 4 8] [6 4 1 ... 1 4 8]\n",
      "accuracy:  0.7573170731707317\n",
      "iterations:  160\n",
      "[6 4 1 ... 1 4 8] [6 4 1 ... 1 4 8]\n",
      "accuracy:  0.7662682926829268\n",
      "iterations:  170\n",
      "[6 4 1 ... 1 4 8] [6 4 1 ... 1 4 8]\n",
      "accuracy:  0.7736585365853659\n",
      "iterations:  180\n",
      "[6 4 1 ... 1 4 8] [6 4 1 ... 1 4 8]\n",
      "accuracy:  0.7806829268292683\n",
      "iterations:  190\n",
      "[6 4 1 ... 1 4 8] [6 4 1 ... 1 4 8]\n",
      "accuracy:  0.7869756097560976\n",
      "iterations:  200\n",
      "[6 4 1 ... 1 4 8] [6 4 1 ... 1 4 8]\n",
      "accuracy:  0.7926829268292683\n",
      "iterations:  210\n",
      "[6 4 1 ... 1 4 8] [6 4 1 ... 1 4 8]\n",
      "accuracy:  0.7976829268292683\n",
      "iterations:  220\n",
      "[6 4 1 ... 1 4 8] [6 4 1 ... 1 4 8]\n",
      "accuracy:  0.8029024390243903\n",
      "iterations:  230\n",
      "[6 4 1 ... 1 4 8] [6 4 1 ... 1 4 8]\n",
      "accuracy:  0.8075365853658537\n",
      "iterations:  240\n",
      "[6 4 1 ... 1 4 8] [6 4 1 ... 1 4 8]\n",
      "accuracy:  0.811\n",
      "iterations:  250\n",
      "[6 4 1 ... 1 4 8] [6 4 1 ... 1 4 8]\n",
      "accuracy:  0.8140243902439024\n",
      "iterations:  260\n",
      "[6 4 1 ... 1 4 8] [6 4 1 ... 1 4 8]\n",
      "accuracy:  0.8172439024390243\n",
      "iterations:  270\n",
      "[6 4 1 ... 1 4 8] [6 4 1 ... 1 4 8]\n",
      "accuracy:  0.8197560975609756\n",
      "iterations:  280\n",
      "[6 4 1 ... 1 4 8] [6 4 1 ... 1 4 8]\n",
      "accuracy:  0.822560975609756\n",
      "iterations:  290\n",
      "[6 4 1 ... 1 4 8] [6 4 1 ... 1 4 8]\n",
      "accuracy:  0.8250975609756097\n",
      "iterations:  300\n",
      "[6 4 1 ... 1 4 8] [6 4 1 ... 1 4 8]\n",
      "accuracy:  0.8274390243902439\n",
      "iterations:  310\n",
      "[6 4 1 ... 1 4 8] [6 4 1 ... 1 4 8]\n",
      "accuracy:  0.8300731707317073\n",
      "iterations:  320\n",
      "[6 4 1 ... 1 4 8] [6 4 1 ... 1 4 8]\n",
      "accuracy:  0.8323658536585365\n",
      "iterations:  330\n",
      "[6 4 1 ... 1 4 8] [6 4 1 ... 1 4 8]\n",
      "accuracy:  0.8345365853658536\n",
      "iterations:  340\n",
      "[6 4 1 ... 1 4 8] [6 4 1 ... 1 4 8]\n",
      "accuracy:  0.8364146341463414\n",
      "iterations:  350\n",
      "[6 4 1 ... 1 4 8] [6 4 1 ... 1 4 8]\n",
      "accuracy:  0.8385365853658536\n",
      "iterations:  360\n",
      "[6 4 1 ... 1 4 8] [6 4 1 ... 1 4 8]\n",
      "accuracy:  0.8403170731707317\n",
      "iterations:  370\n",
      "[6 4 1 ... 1 4 8] [6 4 1 ... 1 4 8]\n",
      "accuracy:  0.8420243902439024\n",
      "iterations:  380\n",
      "[6 4 1 ... 1 4 8] [6 4 1 ... 1 4 8]\n",
      "accuracy:  0.844170731707317\n",
      "iterations:  390\n",
      "[6 4 1 ... 1 4 8] [6 4 1 ... 1 4 8]\n",
      "accuracy:  0.8457560975609756\n",
      "iterations:  400\n",
      "[6 4 1 ... 1 4 8] [6 4 1 ... 1 4 8]\n",
      "accuracy:  0.8474634146341463\n",
      "iterations:  410\n",
      "[6 4 1 ... 1 4 8] [6 4 1 ... 1 4 8]\n",
      "accuracy:  0.8485853658536585\n",
      "iterations:  420\n",
      "[6 4 1 ... 1 4 8] [6 4 1 ... 1 4 8]\n",
      "accuracy:  0.8500731707317073\n",
      "iterations:  430\n",
      "[6 4 1 ... 1 4 8] [6 4 1 ... 1 4 8]\n",
      "accuracy:  0.8515853658536585\n",
      "iterations:  440\n",
      "[6 4 1 ... 1 4 8] [6 4 1 ... 1 4 8]\n",
      "accuracy:  0.8527560975609756\n",
      "iterations:  450\n",
      "[6 4 1 ... 1 4 8] [6 4 1 ... 1 4 8]\n",
      "accuracy:  0.8540243902439024\n",
      "iterations:  460\n",
      "[6 4 1 ... 1 4 8] [6 4 1 ... 1 4 8]\n",
      "accuracy:  0.8553170731707317\n",
      "iterations:  470\n",
      "[6 4 1 ... 1 4 8] [6 4 1 ... 1 4 8]\n",
      "accuracy:  0.8563414634146341\n",
      "iterations:  480\n",
      "[6 4 1 ... 1 4 8] [6 4 1 ... 1 4 8]\n",
      "accuracy:  0.8574878048780488\n",
      "iterations:  490\n",
      "[6 4 1 ... 1 4 8] [6 4 1 ... 1 4 8]\n",
      "accuracy:  0.8582439024390244\n"
     ]
    }
   ],
   "source": [
    "w1, b1, w2, b2=gradient_descent(X_train, Y_train, 500, 0.1)"
   ]
  },
  {
   "cell_type": "markdown",
   "id": "31ee33b1",
   "metadata": {},
   "source": [
    "~86% accuracy on training set."
   ]
  },
  {
   "cell_type": "code",
   "execution_count": 17,
   "id": "97d80641",
   "metadata": {},
   "outputs": [],
   "source": [
    "def make_predictions(X, W1, b1, W2, b2):\n",
    "    _, _, _, A2 = forward_prop(W1, b1, W2, b2, X)\n",
    "    predictions = get_predictions(A2)\n",
    "    return predictions"
   ]
  },
  {
   "cell_type": "markdown",
   "id": "b9771c4f",
   "metadata": {},
   "source": [
    "This function makes predictions using the trained neural network."
   ]
  },
  {
   "cell_type": "code",
   "execution_count": 18,
   "id": "f9f6ee9e",
   "metadata": {},
   "outputs": [],
   "source": [
    "def test_prediction(index, W1, b1, W2, b2):\n",
    "    current_image = X_train[:, index, None]\n",
    "    prediction = make_predictions(X_train[:, index, None], W1, b1, W2, b2)\n",
    "    label = Y_train[index]\n",
    "    print(\"Prediction: \", prediction)\n",
    "    print(\"Label: \", label)\n",
    "    \n",
    "    current_image = current_image.reshape((28, 28)) * 255\n",
    "    plt.gray()\n",
    "    plt.imshow(current_image, interpolation='nearest')\n",
    "    plt.show()"
   ]
  },
  {
   "cell_type": "markdown",
   "id": "9aeec859",
   "metadata": {},
   "source": [
    "These functions are for testing predictions and calculating accuracy on the validation set."
   ]
  },
  {
   "cell_type": "markdown",
   "id": "d6aec1d7",
   "metadata": {},
   "source": [
    "Let's look at a couple of examples:"
   ]
  },
  {
   "cell_type": "code",
   "execution_count": 19,
   "id": "7b1dc166",
   "metadata": {},
   "outputs": [
    {
     "name": "stdout",
     "output_type": "stream",
     "text": [
      "Prediction:  [6]\n",
      "Label:  6\n"
     ]
    },
    {
     "data": {
      "image/png": "[encoded data removed]",
      "text/plain": [
       "<Figure size 432x288 with 1 Axes>"
      ]
     },
     "metadata": {
      "needs_background": "light"
     },
     "output_type": "display_data"
    },
    {
     "name": "stdout",
     "output_type": "stream",
     "text": [
      "Prediction:  [4]\n",
      "Label:  4\n"
     ]
    },
    {
     "data": {
      "image/png": "[encoded data removed]",
      "text/plain": [
       "<Figure size 432x288 with 1 Axes>"
      ]
     },
     "metadata": {
      "needs_background": "light"
     },
     "output_type": "display_data"
    },
    {
     "name": "stdout",
     "output_type": "stream",
     "text": [
      "Prediction:  [1]\n",
      "Label:  1\n"
     ]
    },
    {
     "data": {
      "image/png": "[encoded data removed]",
      "text/plain": [
       "<Figure size 432x288 with 1 Axes>"
      ]
     },
     "metadata": {
      "needs_background": "light"
     },
     "output_type": "display_data"
    },
    {
     "name": "stdout",
     "output_type": "stream",
     "text": [
      "Prediction:  [1]\n",
      "Label:  1\n"
     ]
    },
    {
     "data": {
      "image/png": "[encoded data removed]",
      "text/plain": [
       "<Figure size 432x288 with 1 Axes>"
      ]
     },
     "metadata": {
      "needs_background": "light"
     },
     "output_type": "display_data"
    }
   ],
   "source": [
    "test_prediction(0, w1, b1, w2, b2)\n",
    "test_prediction(1, w1, b1, w2, b2)\n",
    "test_prediction(2, w1, b1, w2, b2)\n",
    "test_prediction(3, w1, b1, w2, b2)"
   ]
  },
  {
   "cell_type": "markdown",
   "id": "15d5366c",
   "metadata": {},
   "source": [
    "Finally, let's find the accuracy on the dev set:"
   ]
  },
  {
   "cell_type": "code",
   "execution_count": 20,
   "id": "eadb907f",
   "metadata": {
    "scrolled": false
   },
   "outputs": [
    {
     "name": "stdout",
     "output_type": "stream",
     "text": [
      "[7 2 7 6 9 3 7 7 1 7 0 1 5 5 8 0 5 7 7 1 1 3 2 4 4 9 2 1 9 3 0 9 4 6 7 0 2\n",
      " 8 2 4 4 7 5 8 7 4 4 3 0 6 7 7 9 7 0 5 2 2 0 4 5 0 0 7 7 3 2 1 9 1 9 9 4 5\n",
      " 7 0 8 7 8 9 1 0 3 2 2 6 9 9 8 9 4 9 2 4 4 0 8 1 6 6 4 9 9 1 1 0 7 3 4 8 2\n",
      " 7 8 6 9 3 4 4 0 8 5 4 3 1 8 2 5 0 8 6 3 1 9 9 6 5 9 1 9 7 1 3 7 8 8 8 9 9\n",
      " 5 8 7 7 3 8 8 7 2 0 2 4 9 3 2 7 2 2 4 0 7 3 5 6 4 6 7 3 4 7 8 0 2 2 4 6 5\n",
      " 6 6 9 7 0 1 8 8 1 1 8 7 8 2 2 7 5 4 9 2 8 9 4 5 7 8 0 4 9 6 5 8 4 5 9 3 5\n",
      " 0 8 1 3 3 3 1 8 2 2 1 1 3 8 3 7 3 8 7 9 3 2 5 5 1 1 4 6 0 4 2 8 0 5 0 0 1\n",
      " 7 2 2 8 8 6 3 3 8 2 0 2 2 8 7 3 3 6 5 8 6 7 5 6 2 8 1 0 2 3 7 7 6 9 7 6 7\n",
      " 0 1 0 2 8 8 7 9 4 1 0 3 5 7 1 3 8 9 9 8 0 2 8 8 6 7 4 3 0 3 9 6 2 7 9 2 5\n",
      " 6 9 8 5 3 2 6 0 3 2 2 7 8 2 4 4 6 2 6 4 8 7 6 7 6 0 5 6 4 1 9 2 2 7 9 9 2\n",
      " 9 3 6 5 7 4 7 1 9 4 1 6 3 1 9 3 8 5 6 3 3 7 4 8 4 8 8 3 9 1 1 0 1 2 4 9 2\n",
      " 7 3 8 2 7 3 4 6 8 1 0 7 2 0 5 7 0 4 1 5 8 2 0 4 1 7 1 2 3 9 2 4 8 5 0 0 3\n",
      " 3 0 9 2 8 5 7 3 6 7 4 5 1 0 2 6 7 4 5 6 8 1 1 9 8 2 0 3 0 3 1 6 2 6 2 8 9\n",
      " 8 1 5 8 0 5 3 0 3 8 1 7 5 7 3 3 4 8 1 6 8 5 4 3 1 2 7 1 0 6 3 4 1 4 8 3 8\n",
      " 0 1 1 3 6 0 0 7 8 9 0 3 3 7 4 6 4 4 6 9 5 4 1 8 0 3 1 7 1 8 8 1 8 1 3 9 5\n",
      " 3 4 2 2 7 7 9 8 7 5 0 8 7 6 2 1 7 4 0 6 9 5 8 1 3 0 3 4 1 3 1 5 9 9 1 8 9\n",
      " 8 0 8 7 7 1 9 2 8 1 8 4 0 9 2 6 5 7 5 5 0 9 2 1 7 7 1 4 3 6 9 6 4 2 6 4 4\n",
      " 3 4 5 8 2 1 8 3 4 3 1 3 4 8 9 5 7 1 1 6 2 4 2 0 8 0 5 9 1 2 7 1 1 8 8 3 2\n",
      " 3 2 3 7 8 3 6 5 3 7 5 5 0 6 4 3 1 1 3 7 0 1 3 5 1 4 1 3 7 4 6 3 6 7 4 6 9\n",
      " 5 0 9 9 2 8 1 4 5 7 1 1 0 0 2 0 8 4 4 4 0 2 2 7 0 9 3 2 4 7 0 8 9 7 7 5 6\n",
      " 6 0 3 2 1 8 4 6 2 0 4 2 4 3 9 6 2 3 0 8 7 3 6 6 4 0 0 7 4 8 1 4 4 8 3 1 3\n",
      " 8 3 5 9 9 4 7 4 8 1 0 3 1 0 5 2 0 9 3 7 7 6 8 6 6 2 0 0 5 7 9 2 8 7 6 1 2\n",
      " 5 4 8 8 1 9 3 1 8 8 4 0 1 0 7 0 6 2 2 7 1 8 3 5 1 8 8 2 5 5 8 0 1 9 1 0 3\n",
      " 3 8 4 0 3 7 1 4 2 6 4 7 4 5 4 3 7 2 4 1 9 1 9 4 3 7 6 7 9 9 4 0 0 1 9 4 6\n",
      " 4 7 3 7 6 8 3 7 2 5 8 4 2 1 0 0 6 2 2 9 9 8 1 7 5 8 6 7 9 1 0 3 1 4 8 7 3\n",
      " 9 9 6 2 7 6 8 1 0 4 7 8 1 8 6 9 5 9 9 3 5 4 8 1 1 2 4 8 2 0 3 9 9 7 5 6 3\n",
      " 7 6 8 8 4 3 5 1 4 3 2 3 7 9 9 5 0 5 4 1 7 8 9 1 2 2 9 0 3 6 6 0 0 8 4 4 9\n",
      " 9] [7 7 7 6 9 3 7 7 1 7 0 1 5 5 3 0 5 7 7 1 1 3 2 4 4 9 2 1 9 3 0 9 4 6 7 6 2\n",
      " 8 2 4 5 7 7 8 7 4 4 3 0 6 7 7 9 7 0 5 2 7 0 4 5 0 9 7 7 3 7 1 9 1 9 9 4 3\n",
      " 7 0 2 7 9 9 1 9 3 2 2 6 9 9 4 9 4 9 2 9 4 0 8 1 6 6 4 3 9 1 8 0 7 3 4 8 2\n",
      " 7 8 6 9 3 2 4 0 8 5 9 3 1 3 2 0 0 8 6 5 1 9 9 6 5 9 1 7 7 1 3 7 8 5 3 4 9\n",
      " 5 8 7 7 3 8 8 7 2 0 2 4 9 3 2 7 2 2 4 0 7 3 5 3 4 4 7 3 4 7 8 5 2 2 4 6 5\n",
      " 6 6 9 9 0 2 8 8 1 1 8 7 8 2 6 7 5 5 9 2 5 9 4 5 7 5 0 4 7 6 5 8 4 5 9 3 5\n",
      " 5 8 1 3 5 3 1 2 0 2 1 1 3 3 3 7 3 8 7 9 3 2 5 5 7 1 4 6 0 4 2 8 0 8 0 0 5\n",
      " 7 2 3 8 8 6 8 3 8 2 0 3 9 8 7 3 3 6 5 8 6 7 5 6 4 8 1 0 2 3 7 7 6 8 7 6 7\n",
      " 0 1 0 6 8 8 7 9 4 1 0 3 5 7 2 3 8 9 9 8 0 2 1 9 6 7 4 3 0 3 9 6 2 7 9 2 5\n",
      " 6 4 8 5 2 2 6 0 3 2 2 7 8 2 4 4 6 2 6 4 3 7 6 7 6 0 5 5 4 1 9 5 6 9 3 9 2\n",
      " 9 3 6 5 7 4 7 1 9 4 1 6 3 1 9 3 8 5 6 3 2 7 4 8 4 8 8 3 9 3 1 0 1 6 4 9 2\n",
      " 8 3 8 2 7 3 4 6 9 1 0 7 7 0 8 7 0 9 1 5 8 2 0 4 1 7 1 2 3 9 2 4 8 3 0 0 3\n",
      " 3 0 9 2 8 5 7 3 6 7 4 5 1 0 2 6 7 4 5 6 8 8 1 9 8 2 0 3 0 3 1 6 2 6 2 8 9\n",
      " 8 1 5 2 0 6 3 0 3 1 1 2 3 7 3 3 4 9 1 6 8 5 4 3 1 2 7 1 9 6 3 4 1 4 9 3 2\n",
      " 0 1 3 3 6 0 0 7 8 9 0 3 3 7 4 6 4 7 6 9 7 4 1 8 0 3 1 9 1 8 9 1 8 1 3 9 5\n",
      " 3 4 3 2 7 7 9 2 7 5 0 1 7 6 2 1 7 4 0 6 3 9 8 1 3 0 3 4 1 3 1 0 9 7 1 8 9\n",
      " 8 0 8 7 7 1 7 2 8 1 4 4 0 9 2 6 5 7 5 5 0 9 2 8 3 7 1 4 3 6 9 6 4 2 6 4 4\n",
      " 3 4 5 5 2 1 8 3 4 3 1 3 4 8 9 5 7 1 8 6 2 4 2 0 8 0 6 9 1 2 7 1 1 8 8 3 8\n",
      " 3 2 3 7 8 3 6 5 3 7 5 8 0 6 4 3 1 1 3 7 0 1 3 5 1 4 1 3 3 4 6 3 6 9 4 6 4\n",
      " 5 0 9 9 2 8 1 2 5 7 1 1 0 0 2 6 8 4 4 4 0 2 2 3 0 3 3 2 4 7 0 3 9 7 7 3 6\n",
      " 6 0 3 2 1 2 4 6 2 0 4 2 4 8 4 6 9 7 0 5 7 3 4 6 4 0 0 7 4 8 1 9 4 8 3 1 3\n",
      " 8 3 5 9 7 4 7 4 5 1 0 3 8 0 5 5 6 9 3 7 7 6 8 2 6 6 0 0 5 7 5 2 1 7 6 1 7\n",
      " 5 4 8 8 1 9 3 1 8 2 4 0 1 0 7 0 6 8 2 7 1 9 9 5 1 8 8 2 5 5 8 0 1 9 3 0 3\n",
      " 3 8 4 0 4 7 1 4 2 6 4 7 4 5 4 3 7 2 4 1 7 1 8 4 3 7 6 7 7 9 4 0 0 1 9 4 6\n",
      " 4 7 3 7 6 8 3 2 6 5 8 4 2 1 0 0 6 9 2 9 9 5 1 9 5 8 6 7 9 1 0 3 1 4 8 7 8\n",
      " 9 9 6 2 7 6 8 1 0 4 9 8 8 8 6 9 5 9 9 3 5 4 8 1 1 2 8 8 2 5 3 9 9 7 5 6 3\n",
      " 7 6 8 8 9 3 5 1 4 2 2 3 7 9 9 8 0 5 4 1 7 8 9 1 2 2 7 0 3 6 6 0 0 8 4 4 9\n",
      " 9]\n"
     ]
    },
    {
     "data": {
      "text/plain": [
       "0.849"
      ]
     },
     "execution_count": 20,
     "metadata": {},
     "output_type": "execute_result"
    }
   ],
   "source": [
    "dev_predictions = make_predictions(X_dev, w1, b1, w2, b2)\n",
    "get_accuracy(dev_predictions, Y_dev)"
   ]
  },
  {
   "cell_type": "markdown",
   "id": "608a861a",
   "metadata": {},
   "source": [
    "Still 85% accuracy, so our model generalized from the training data pretty well."
   ]
  },
  {
   "cell_type": "markdown",
   "id": "1d21cc24",
   "metadata": {},
   "source": [
    "Code by Om Baval \n",
    "For any further clarification you can drop me a mail on ombaval@gmail.com"
   ]
  }
 ],
 "metadata": {
  "kernelspec": {
   "display_name": "Python 3 (ipykernel)",
   "language": "python",
   "name": "python3"
  },
  "language_info": {
   "codemirror_mode": {
    "name": "ipython",
    "version": 3
   },
   "file_extension": ".py",
   "mimetype": "text/x-python",
   "name": "python",
   "nbconvert_exporter": "python",
   "pygments_lexer": "ipython3",
   "version": "3.9.12"
  }
 },
 "nbformat": 4,
 "nbformat_minor": 5
}
